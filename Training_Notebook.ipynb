{
 "cells": [
  {
   "cell_type": "code",
   "execution_count": 2,
   "id": "8fa8160a-1803-40e7-b60e-85a6e7bf5d50",
   "metadata": {},
   "outputs": [
    {
     "name": "stdout",
     "output_type": "stream",
     "text": [
      "Total images: 37652\n",
      "Unique labels: 238\n",
      "Sample labels: ['001he' '002hu' '003hi' '004ha' '005hy' '006hh' '007ho' '008le' '009lu'\n",
      " '010li']\n"
     ]
    }
   ],
   "source": [
    "import os\n",
    "import numpy as np\n",
    "import tensorflow as tf\n",
    "from tensorflow import keras\n",
    "from tensorflow.keras import layers\n",
    "from sklearn.model_selection import train_test_split\n",
    "from sklearn.preprocessing import LabelEncoder\n",
    "from PIL import Image\n",
    "\n",
    "# Path to your data folder\n",
    "data_dir = \"data\"\n",
    "img_size = (32, 32)\n",
    "\n",
    "images, labels = [], []\n",
    "\n",
    "for fname in os.listdir(data_dir):\n",
    "    if fname.lower().endswith((\".png\", \".jpg\", \".jpeg\")):   # accept jpg & png\n",
    "        label = fname.split(\".\")[0]   # \"001he\"\n",
    "        filepath = os.path.join(data_dir, fname)\n",
    "\n",
    "        # Load & preprocess\n",
    "        img = Image.open(filepath).convert(\"L\")  # grayscale\n",
    "        img = img.resize(img_size)\n",
    "        img = np.array(img).astype(\"float32\") / 255.0\n",
    "\n",
    "        images.append(img)\n",
    "        labels.append(label)\n",
    "\n",
    "# Convert to arrays\n",
    "images = np.array(images)[..., None]  # add channel dim\n",
    "labels = np.array(labels)\n",
    "\n",
    "# Encode string labels -> integers\n",
    "le = LabelEncoder()\n",
    "labels_encoded = le.fit_transform(labels)\n",
    "\n",
    "print(\"Total images:\", len(images))\n",
    "print(\"Unique labels:\", len(le.classes_))\n",
    "print(\"Sample labels:\", le.classes_[:10])  # check first 10"
   ]
  },
  {
   "cell_type": "code",
   "execution_count": 3,
   "id": "f401b54f-bf8b-4d38-8f34-860cc57b4d27",
   "metadata": {},
   "outputs": [
    {
     "data": {
      "text/plain": [
       "array(['001he', '002hu', '003hi', '004ha', '005hy', '006hh', '007ho',\n",
       "       '008le', '009lu', '010li', '011la', '012ly', '013ll', '014lo',\n",
       "       '015_h', '016_h', '017_h', '018_h', '019_h', '020_h', '021_h',\n",
       "       '022me', '023mu', '024mi', '025ma', '026my', '027mm', '028mo',\n",
       "       '029_s', '030_s', '031_s', '032_s', '033_s', '034_s', '035_s',\n",
       "       '036re', '037ru', '038ri', '039ra', '040ry', '041rr', '042ro',\n",
       "       '043se', '044su', '045si', '046sa', '047sy', '048ss', '049so',\n",
       "       '050_S', '051_S', '052_S', '053_S', '054_S', '055_S', '056_S',\n",
       "       '057qe', '058qu', '059qi', '060qa', '061qy', '062qq', '063qo',\n",
       "       '064be', '065bu', '066bi', '067ba', '068by', '069bb', '070bo',\n",
       "       '071ve', '072vu', '073vi', '074va', '075vy', '076vv', '077vo',\n",
       "       '078te', '079tu', '080ti', '081ta', '082ty', '083tt', '084to',\n",
       "       '085Ce', '086Cu', '087Ci', '088Ca', '089Cy', '090CC', '091Co',\n",
       "       '092He', '093Hu', '094Hi', '095Ha', '096Hy', '097HH', '098Ho',\n",
       "       '099ne', '100nu', '101ni', '102na', '103ny', '104nn', '105no',\n",
       "       '106_n', '107_n', '108_n', '109_n', '110_n', '111_n', '112_n',\n",
       "       '113xe', '114xu', '115xi', '116xa', '117xy', '118xx', '119xo',\n",
       "       '120ke', '121ku', '122ki', '123ka', '124ky', '125kk', '126ko',\n",
       "       '127_H', '128_H', '129_H', '130_H', '131_H', '132_H', '133_H',\n",
       "       '134we', '135wu', '136wi', '137wa', '138wy', '139ww', '140wo',\n",
       "       '141_x', '142_x', '143_x', '144_x', '145_x', '146_x', '147_x',\n",
       "       '148ze', '149zu', '150zi', '151za', '152zy', '153zz', '154zo',\n",
       "       '155_z', '156_z', '157_z', '158_z', '159_z', '160_z', '161_z',\n",
       "       '162_y', '163_y', '164_y', '165_y', '166_y', '167_y', '168_y',\n",
       "       '169de', '170du', '171di', '172da', '173dy', '174dd', '175do',\n",
       "       '176je', '177ju', '178ji', '179ja', '180jy', '181jj', '182jo',\n",
       "       '183ge', '184gu', '185gi', '186ga', '187gy', '188gg', '189go',\n",
       "       '190_t', '191_t', '192_t', '193_t', '194_t', '195_t', '196_t',\n",
       "       '197_c', '198_c', '199_c', '200_c', '201_c', '202_c', '203_c',\n",
       "       '204_p', '205_p', '206_p', '207_p', '208_p', '209_p', '210_p',\n",
       "       '211Te', '212Tu', '213Ti', '214Ta', '215Ty', '216TT', '217To',\n",
       "       '218_T', '219_T', '220_T', '221_T', '222_T', '223_T', '224_T',\n",
       "       '225fe', '226fu', '227fi', '228fa', '229fy', '230ff', '231fo',\n",
       "       '232pe', '233pu', '234pi', '235pa', '236py', '237pp', '238po'],\n",
       "      dtype='<U5')"
      ]
     },
     "execution_count": 3,
     "metadata": {},
     "output_type": "execute_result"
    }
   ],
   "source": [
    "le.classes_"
   ]
  },
  {
   "cell_type": "code",
   "execution_count": null,
   "id": "a9d72da6-3cde-4f73-921e-1fbe73f3fb6a",
   "metadata": {},
   "outputs": [],
   "source": []
  }
 ],
 "metadata": {
  "kernelspec": {
   "display_name": "Python 3 (ipykernel)",
   "language": "python",
   "name": "python3"
  },
  "language_info": {
   "codemirror_mode": {
    "name": "ipython",
    "version": 3
   },
   "file_extension": ".py",
   "mimetype": "text/x-python",
   "name": "python",
   "nbconvert_exporter": "python",
   "pygments_lexer": "ipython3",
   "version": "3.12.7"
  }
 },
 "nbformat": 4,
 "nbformat_minor": 5
}
