{
 "cells": [
  {
   "cell_type": "code",
   "execution_count": 1,
   "id": "8fa8160a-1803-40e7-b60e-85a6e7bf5d50",
   "metadata": {},
   "outputs": [
    {
     "name": "stdout",
     "output_type": "stream",
     "text": [
      "Total images: 37652\n",
      "Unique labels: 238\n",
      "Sample labels: ['001he' '002hu' '003hi' '004ha' '005hy' '006hh' '007ho' '008le' '009lu'\n",
      " '010li']\n"
     ]
    }
   ],
   "source": [
    "import os\n",
    "import numpy as np\n",
    "import tensorflow as tf\n",
    "from tensorflow import keras\n",
    "from tensorflow.keras import layers\n",
    "from sklearn.model_selection import train_test_split\n",
    "from sklearn.preprocessing import LabelEncoder\n",
    "from PIL import Image\n",
    "\n",
    "# Path to your data folder\n",
    "data_dir = \"data\"\n",
    "img_size = (32, 32)\n",
    "\n",
    "images, labels = [], []\n",
    "\n",
    "for fname in os.listdir(data_dir):\n",
    "    if fname.lower().endswith((\".png\", \".jpg\", \".jpeg\")):   # accept jpg & png\n",
    "        label = fname.split(\".\")[0]   # \"001he\"\n",
    "        filepath = os.path.join(data_dir, fname)\n",
    "\n",
    "        # Load & preprocess\n",
    "        img = Image.open(filepath).convert(\"L\")  # grayscale\n",
    "        img = img.resize(img_size)\n",
    "        img = np.array(img).astype(\"float32\") / 255.0\n",
    "\n",
    "        images.append(img)\n",
    "        labels.append(label)\n",
    "\n",
    "# Convert to arrays\n",
    "images = np.array(images)[..., None]  # add channel dim\n",
    "labels = np.array(labels)\n",
    "\n",
    "# Encode string labels -> integers\n",
    "le = LabelEncoder()\n",
    "labels_encoded = le.fit_transform(labels)\n",
    "\n",
    "print(\"Total images:\", len(images))\n",
    "print(\"Unique labels:\", len(le.classes_))\n",
    "print(\"Sample labels:\", le.classes_[:10])  # check first 10"
   ]
  },
  {
   "cell_type": "code",
   "execution_count": 2,
   "id": "f401b54f-bf8b-4d38-8f34-860cc57b4d27",
   "metadata": {},
   "outputs": [
    {
     "data": {
      "text/plain": [
       "array(['001he', '002hu', '003hi', '004ha', '005hy', '006hh', '007ho',\n",
       "       '008le', '009lu', '010li', '011la', '012ly', '013ll', '014lo',\n",
       "       '015_h', '016_h', '017_h', '018_h', '019_h', '020_h', '021_h',\n",
       "       '022me', '023mu', '024mi', '025ma', '026my', '027mm', '028mo',\n",
       "       '029_s', '030_s', '031_s', '032_s', '033_s', '034_s', '035_s',\n",
       "       '036re', '037ru', '038ri', '039ra', '040ry', '041rr', '042ro',\n",
       "       '043se', '044su', '045si', '046sa', '047sy', '048ss', '049so',\n",
       "       '050_S', '051_S', '052_S', '053_S', '054_S', '055_S', '056_S',\n",
       "       '057qe', '058qu', '059qi', '060qa', '061qy', '062qq', '063qo',\n",
       "       '064be', '065bu', '066bi', '067ba', '068by', '069bb', '070bo',\n",
       "       '071ve', '072vu', '073vi', '074va', '075vy', '076vv', '077vo',\n",
       "       '078te', '079tu', '080ti', '081ta', '082ty', '083tt', '084to',\n",
       "       '085Ce', '086Cu', '087Ci', '088Ca', '089Cy', '090CC', '091Co',\n",
       "       '092He', '093Hu', '094Hi', '095Ha', '096Hy', '097HH', '098Ho',\n",
       "       '099ne', '100nu', '101ni', '102na', '103ny', '104nn', '105no',\n",
       "       '106_n', '107_n', '108_n', '109_n', '110_n', '111_n', '112_n',\n",
       "       '113xe', '114xu', '115xi', '116xa', '117xy', '118xx', '119xo',\n",
       "       '120ke', '121ku', '122ki', '123ka', '124ky', '125kk', '126ko',\n",
       "       '127_H', '128_H', '129_H', '130_H', '131_H', '132_H', '133_H',\n",
       "       '134we', '135wu', '136wi', '137wa', '138wy', '139ww', '140wo',\n",
       "       '141_x', '142_x', '143_x', '144_x', '145_x', '146_x', '147_x',\n",
       "       '148ze', '149zu', '150zi', '151za', '152zy', '153zz', '154zo',\n",
       "       '155_z', '156_z', '157_z', '158_z', '159_z', '160_z', '161_z',\n",
       "       '162_y', '163_y', '164_y', '165_y', '166_y', '167_y', '168_y',\n",
       "       '169de', '170du', '171di', '172da', '173dy', '174dd', '175do',\n",
       "       '176je', '177ju', '178ji', '179ja', '180jy', '181jj', '182jo',\n",
       "       '183ge', '184gu', '185gi', '186ga', '187gy', '188gg', '189go',\n",
       "       '190_t', '191_t', '192_t', '193_t', '194_t', '195_t', '196_t',\n",
       "       '197_c', '198_c', '199_c', '200_c', '201_c', '202_c', '203_c',\n",
       "       '204_p', '205_p', '206_p', '207_p', '208_p', '209_p', '210_p',\n",
       "       '211Te', '212Tu', '213Ti', '214Ta', '215Ty', '216TT', '217To',\n",
       "       '218_T', '219_T', '220_T', '221_T', '222_T', '223_T', '224_T',\n",
       "       '225fe', '226fu', '227fi', '228fa', '229fy', '230ff', '231fo',\n",
       "       '232pe', '233pu', '234pi', '235pa', '236py', '237pp', '238po'],\n",
       "      dtype='<U5')"
      ]
     },
     "execution_count": 2,
     "metadata": {},
     "output_type": "execute_result"
    }
   ],
   "source": [
    "le.classes_"
   ]
  },
  {
   "cell_type": "code",
   "execution_count": 7,
   "id": "a9d72da6-3cde-4f73-921e-1fbe73f3fb6a",
   "metadata": {},
   "outputs": [
    {
     "name": "stdout",
     "output_type": "stream",
     "text": [
      "Train shape: (30121, 32, 32, 1) (30121,)\n",
      "Test shape: (7531, 32, 32, 1) (7531,)\n"
     ]
    }
   ],
   "source": [
    "X_train, X_test, y_train, y_test = train_test_split(\n",
    "    images, labels_encoded, test_size=0.2, random_state=42, stratify=labels_encoded\n",
    ")\n",
    "\n",
    "print(\"Train shape:\", X_train.shape, y_train.shape)\n",
    "print(\"Test shape:\", X_test.shape, y_test.shape)"
   ]
  },
  {
   "cell_type": "code",
   "execution_count": 6,
   "id": "9e596382-c1c3-40f0-b98b-55b0fd4c4666",
   "metadata": {},
   "outputs": [
    {
     "name": "stdout",
     "output_type": "stream",
     "text": [
      "Number of classes: 37652\n",
      "Sample classes: ['001he.1.jpg', '001he.10.jpg', '001he.100.jpg', '001he.101.jpg', '001he.102.jpg', '001he.103.jpg', '001he.104.jpg', '001he.105.jpg', '001he.106.jpg', '001he.107.jpg']\n"
     ]
    }
   ],
   "source": [
    "import os\n",
    "\n",
    "# Path to your dataset\n",
    "data_dir = \"data\"\n",
    "\n",
    "# Get class names from the dataset folder\n",
    "class_names = sorted(os.listdir(data_dir))\n",
    "\n",
    "# Number of classes\n",
    "num_classes = len(class_names)\n",
    "\n",
    "print(\"Number of classes:\", num_classes)\n",
    "print(\"Sample classes:\", class_names[:10])\n"
   ]
  },
  {
   "cell_type": "code",
   "execution_count": 8,
   "id": "fc6f9877-80cb-4df6-a7db-e154afc05f64",
   "metadata": {},
   "outputs": [
    {
     "data": {
      "text/html": [
       "<pre style=\"white-space:pre;overflow-x:auto;line-height:normal;font-family:Menlo,'DejaVu Sans Mono',consolas,'Courier New',monospace\"><span style=\"font-weight: bold\">Model: \"sequential\"</span>\n",
       "</pre>\n"
      ],
      "text/plain": [
       "\u001b[1mModel: \"sequential\"\u001b[0m\n"
      ]
     },
     "metadata": {},
     "output_type": "display_data"
    },
    {
     "data": {
      "text/html": [
       "<pre style=\"white-space:pre;overflow-x:auto;line-height:normal;font-family:Menlo,'DejaVu Sans Mono',consolas,'Courier New',monospace\">┏━━━━━━━━━━━━━━━━━━━━━━━━━━━━━━━━━━━━━━┳━━━━━━━━━━━━━━━━━━━━━━━━━━━━━┳━━━━━━━━━━━━━━━━━┓\n",
       "┃<span style=\"font-weight: bold\"> Layer (type)                         </span>┃<span style=\"font-weight: bold\"> Output Shape                </span>┃<span style=\"font-weight: bold\">         Param # </span>┃\n",
       "┡━━━━━━━━━━━━━━━━━━━━━━━━━━━━━━━━━━━━━━╇━━━━━━━━━━━━━━━━━━━━━━━━━━━━━╇━━━━━━━━━━━━━━━━━┩\n",
       "│ conv2d_6 (<span style=\"color: #0087ff; text-decoration-color: #0087ff\">Conv2D</span>)                    │ (<span style=\"color: #00d7ff; text-decoration-color: #00d7ff\">None</span>, <span style=\"color: #00af00; text-decoration-color: #00af00\">30</span>, <span style=\"color: #00af00; text-decoration-color: #00af00\">30</span>, <span style=\"color: #00af00; text-decoration-color: #00af00\">32</span>)          │             <span style=\"color: #00af00; text-decoration-color: #00af00\">320</span> │\n",
       "├──────────────────────────────────────┼─────────────────────────────┼─────────────────┤\n",
       "│ max_pooling2d_4 (<span style=\"color: #0087ff; text-decoration-color: #0087ff\">MaxPooling2D</span>)       │ (<span style=\"color: #00d7ff; text-decoration-color: #00d7ff\">None</span>, <span style=\"color: #00af00; text-decoration-color: #00af00\">15</span>, <span style=\"color: #00af00; text-decoration-color: #00af00\">15</span>, <span style=\"color: #00af00; text-decoration-color: #00af00\">32</span>)          │               <span style=\"color: #00af00; text-decoration-color: #00af00\">0</span> │\n",
       "├──────────────────────────────────────┼─────────────────────────────┼─────────────────┤\n",
       "│ conv2d_7 (<span style=\"color: #0087ff; text-decoration-color: #0087ff\">Conv2D</span>)                    │ (<span style=\"color: #00d7ff; text-decoration-color: #00d7ff\">None</span>, <span style=\"color: #00af00; text-decoration-color: #00af00\">13</span>, <span style=\"color: #00af00; text-decoration-color: #00af00\">13</span>, <span style=\"color: #00af00; text-decoration-color: #00af00\">64</span>)          │          <span style=\"color: #00af00; text-decoration-color: #00af00\">18,496</span> │\n",
       "├──────────────────────────────────────┼─────────────────────────────┼─────────────────┤\n",
       "│ max_pooling2d_5 (<span style=\"color: #0087ff; text-decoration-color: #0087ff\">MaxPooling2D</span>)       │ (<span style=\"color: #00d7ff; text-decoration-color: #00d7ff\">None</span>, <span style=\"color: #00af00; text-decoration-color: #00af00\">6</span>, <span style=\"color: #00af00; text-decoration-color: #00af00\">6</span>, <span style=\"color: #00af00; text-decoration-color: #00af00\">64</span>)            │               <span style=\"color: #00af00; text-decoration-color: #00af00\">0</span> │\n",
       "├──────────────────────────────────────┼─────────────────────────────┼─────────────────┤\n",
       "│ conv2d_8 (<span style=\"color: #0087ff; text-decoration-color: #0087ff\">Conv2D</span>)                    │ (<span style=\"color: #00d7ff; text-decoration-color: #00d7ff\">None</span>, <span style=\"color: #00af00; text-decoration-color: #00af00\">4</span>, <span style=\"color: #00af00; text-decoration-color: #00af00\">4</span>, <span style=\"color: #00af00; text-decoration-color: #00af00\">128</span>)           │          <span style=\"color: #00af00; text-decoration-color: #00af00\">73,856</span> │\n",
       "├──────────────────────────────────────┼─────────────────────────────┼─────────────────┤\n",
       "│ flatten_2 (<span style=\"color: #0087ff; text-decoration-color: #0087ff\">Flatten</span>)                  │ (<span style=\"color: #00d7ff; text-decoration-color: #00d7ff\">None</span>, <span style=\"color: #00af00; text-decoration-color: #00af00\">2048</span>)                │               <span style=\"color: #00af00; text-decoration-color: #00af00\">0</span> │\n",
       "├──────────────────────────────────────┼─────────────────────────────┼─────────────────┤\n",
       "│ dropout_2 (<span style=\"color: #0087ff; text-decoration-color: #0087ff\">Dropout</span>)                  │ (<span style=\"color: #00d7ff; text-decoration-color: #00d7ff\">None</span>, <span style=\"color: #00af00; text-decoration-color: #00af00\">2048</span>)                │               <span style=\"color: #00af00; text-decoration-color: #00af00\">0</span> │\n",
       "├──────────────────────────────────────┼─────────────────────────────┼─────────────────┤\n",
       "│ dense_2 (<span style=\"color: #0087ff; text-decoration-color: #0087ff\">Dense</span>)                      │ (<span style=\"color: #00d7ff; text-decoration-color: #00d7ff\">None</span>, <span style=\"color: #00af00; text-decoration-color: #00af00\">256</span>)                 │         <span style=\"color: #00af00; text-decoration-color: #00af00\">524,544</span> │\n",
       "├──────────────────────────────────────┼─────────────────────────────┼─────────────────┤\n",
       "│ dense_3 (<span style=\"color: #0087ff; text-decoration-color: #0087ff\">Dense</span>)                      │ (<span style=\"color: #00d7ff; text-decoration-color: #00d7ff\">None</span>, <span style=\"color: #00af00; text-decoration-color: #00af00\">238</span>)                 │          <span style=\"color: #00af00; text-decoration-color: #00af00\">61,166</span> │\n",
       "└──────────────────────────────────────┴─────────────────────────────┴─────────────────┘\n",
       "</pre>\n"
      ],
      "text/plain": [
       "┏━━━━━━━━━━━━━━━━━━━━━━━━━━━━━━━━━━━━━━┳━━━━━━━━━━━━━━━━━━━━━━━━━━━━━┳━━━━━━━━━━━━━━━━━┓\n",
       "┃\u001b[1m \u001b[0m\u001b[1mLayer (type)                        \u001b[0m\u001b[1m \u001b[0m┃\u001b[1m \u001b[0m\u001b[1mOutput Shape               \u001b[0m\u001b[1m \u001b[0m┃\u001b[1m \u001b[0m\u001b[1m        Param #\u001b[0m\u001b[1m \u001b[0m┃\n",
       "┡━━━━━━━━━━━━━━━━━━━━━━━━━━━━━━━━━━━━━━╇━━━━━━━━━━━━━━━━━━━━━━━━━━━━━╇━━━━━━━━━━━━━━━━━┩\n",
       "│ conv2d_6 (\u001b[38;5;33mConv2D\u001b[0m)                    │ (\u001b[38;5;45mNone\u001b[0m, \u001b[38;5;34m30\u001b[0m, \u001b[38;5;34m30\u001b[0m, \u001b[38;5;34m32\u001b[0m)          │             \u001b[38;5;34m320\u001b[0m │\n",
       "├──────────────────────────────────────┼─────────────────────────────┼─────────────────┤\n",
       "│ max_pooling2d_4 (\u001b[38;5;33mMaxPooling2D\u001b[0m)       │ (\u001b[38;5;45mNone\u001b[0m, \u001b[38;5;34m15\u001b[0m, \u001b[38;5;34m15\u001b[0m, \u001b[38;5;34m32\u001b[0m)          │               \u001b[38;5;34m0\u001b[0m │\n",
       "├──────────────────────────────────────┼─────────────────────────────┼─────────────────┤\n",
       "│ conv2d_7 (\u001b[38;5;33mConv2D\u001b[0m)                    │ (\u001b[38;5;45mNone\u001b[0m, \u001b[38;5;34m13\u001b[0m, \u001b[38;5;34m13\u001b[0m, \u001b[38;5;34m64\u001b[0m)          │          \u001b[38;5;34m18,496\u001b[0m │\n",
       "├──────────────────────────────────────┼─────────────────────────────┼─────────────────┤\n",
       "│ max_pooling2d_5 (\u001b[38;5;33mMaxPooling2D\u001b[0m)       │ (\u001b[38;5;45mNone\u001b[0m, \u001b[38;5;34m6\u001b[0m, \u001b[38;5;34m6\u001b[0m, \u001b[38;5;34m64\u001b[0m)            │               \u001b[38;5;34m0\u001b[0m │\n",
       "├──────────────────────────────────────┼─────────────────────────────┼─────────────────┤\n",
       "│ conv2d_8 (\u001b[38;5;33mConv2D\u001b[0m)                    │ (\u001b[38;5;45mNone\u001b[0m, \u001b[38;5;34m4\u001b[0m, \u001b[38;5;34m4\u001b[0m, \u001b[38;5;34m128\u001b[0m)           │          \u001b[38;5;34m73,856\u001b[0m │\n",
       "├──────────────────────────────────────┼─────────────────────────────┼─────────────────┤\n",
       "│ flatten_2 (\u001b[38;5;33mFlatten\u001b[0m)                  │ (\u001b[38;5;45mNone\u001b[0m, \u001b[38;5;34m2048\u001b[0m)                │               \u001b[38;5;34m0\u001b[0m │\n",
       "├──────────────────────────────────────┼─────────────────────────────┼─────────────────┤\n",
       "│ dropout_2 (\u001b[38;5;33mDropout\u001b[0m)                  │ (\u001b[38;5;45mNone\u001b[0m, \u001b[38;5;34m2048\u001b[0m)                │               \u001b[38;5;34m0\u001b[0m │\n",
       "├──────────────────────────────────────┼─────────────────────────────┼─────────────────┤\n",
       "│ dense_2 (\u001b[38;5;33mDense\u001b[0m)                      │ (\u001b[38;5;45mNone\u001b[0m, \u001b[38;5;34m256\u001b[0m)                 │         \u001b[38;5;34m524,544\u001b[0m │\n",
       "├──────────────────────────────────────┼─────────────────────────────┼─────────────────┤\n",
       "│ dense_3 (\u001b[38;5;33mDense\u001b[0m)                      │ (\u001b[38;5;45mNone\u001b[0m, \u001b[38;5;34m238\u001b[0m)                 │          \u001b[38;5;34m61,166\u001b[0m │\n",
       "└──────────────────────────────────────┴─────────────────────────────┴─────────────────┘\n"
      ]
     },
     "metadata": {},
     "output_type": "display_data"
    },
    {
     "data": {
      "text/html": [
       "<pre style=\"white-space:pre;overflow-x:auto;line-height:normal;font-family:Menlo,'DejaVu Sans Mono',consolas,'Courier New',monospace\"><span style=\"font-weight: bold\"> Total params: </span><span style=\"color: #00af00; text-decoration-color: #00af00\">678,382</span> (2.59 MB)\n",
       "</pre>\n"
      ],
      "text/plain": [
       "\u001b[1m Total params: \u001b[0m\u001b[38;5;34m678,382\u001b[0m (2.59 MB)\n"
      ]
     },
     "metadata": {},
     "output_type": "display_data"
    },
    {
     "data": {
      "text/html": [
       "<pre style=\"white-space:pre;overflow-x:auto;line-height:normal;font-family:Menlo,'DejaVu Sans Mono',consolas,'Courier New',monospace\"><span style=\"font-weight: bold\"> Trainable params: </span><span style=\"color: #00af00; text-decoration-color: #00af00\">678,382</span> (2.59 MB)\n",
       "</pre>\n"
      ],
      "text/plain": [
       "\u001b[1m Trainable params: \u001b[0m\u001b[38;5;34m678,382\u001b[0m (2.59 MB)\n"
      ]
     },
     "metadata": {},
     "output_type": "display_data"
    },
    {
     "data": {
      "text/html": [
       "<pre style=\"white-space:pre;overflow-x:auto;line-height:normal;font-family:Menlo,'DejaVu Sans Mono',consolas,'Courier New',monospace\"><span style=\"font-weight: bold\"> Non-trainable params: </span><span style=\"color: #00af00; text-decoration-color: #00af00\">0</span> (0.00 B)\n",
       "</pre>\n"
      ],
      "text/plain": [
       "\u001b[1m Non-trainable params: \u001b[0m\u001b[38;5;34m0\u001b[0m (0.00 B)\n"
      ]
     },
     "metadata": {},
     "output_type": "display_data"
    }
   ],
   "source": [
    "num_classes = len(le.classes_)\n",
    "\n",
    "model = keras.Sequential([\n",
    "    layers.Input(shape=(32, 32, 1)),\n",
    "    layers.Conv2D(32, 3, activation='relu'),\n",
    "    layers.MaxPooling2D(),\n",
    "    layers.Conv2D(64, 3, activation='relu'),\n",
    "    layers.MaxPooling2D(),\n",
    "    layers.Conv2D(128, 3, activation='relu'),\n",
    "    layers.Flatten(),\n",
    "    layers.Dropout(0.4),\n",
    "    layers.Dense(256, activation='relu'),\n",
    "    layers.Dense(num_classes, activation='softmax')\n",
    "])\n",
    "\n",
    "model.compile(\n",
    "    optimizer='adam',\n",
    "    loss='sparse_categorical_crossentropy',\n",
    "    metrics=['accuracy']\n",
    ")\n",
    "\n",
    "model.summary()"
   ]
  },
  {
   "cell_type": "code",
   "execution_count": 11,
   "id": "b1fc0af0-1bc6-4488-a792-0d9f371423d1",
   "metadata": {},
   "outputs": [
    {
     "name": "stdout",
     "output_type": "stream",
     "text": [
      "Epoch 1/25\n",
      "\u001b[1m471/471\u001b[0m \u001b[32m━━━━━━━━━━━━━━━━━━━━\u001b[0m\u001b[37m\u001b[0m \u001b[1m14s\u001b[0m 30ms/step - accuracy: 0.9456 - loss: 0.1589 - val_accuracy: 0.8428 - val_loss: 0.6004\n",
      "Epoch 2/25\n",
      "\u001b[1m471/471\u001b[0m \u001b[32m━━━━━━━━━━━━━━━━━━━━\u001b[0m\u001b[37m\u001b[0m \u001b[1m13s\u001b[0m 28ms/step - accuracy: 0.9493 - loss: 0.1472 - val_accuracy: 0.8501 - val_loss: 0.5982\n",
      "Epoch 3/25\n",
      "\u001b[1m471/471\u001b[0m \u001b[32m━━━━━━━━━━━━━━━━━━━━\u001b[0m\u001b[37m\u001b[0m \u001b[1m14s\u001b[0m 29ms/step - accuracy: 0.9529 - loss: 0.1351 - val_accuracy: 0.8518 - val_loss: 0.5784\n",
      "Epoch 4/25\n",
      "\u001b[1m471/471\u001b[0m \u001b[32m━━━━━━━━━━━━━━━━━━━━\u001b[0m\u001b[37m\u001b[0m \u001b[1m14s\u001b[0m 30ms/step - accuracy: 0.9576 - loss: 0.1232 - val_accuracy: 0.8466 - val_loss: 0.6164\n",
      "Epoch 5/25\n",
      "\u001b[1m471/471\u001b[0m \u001b[32m━━━━━━━━━━━━━━━━━━━━\u001b[0m\u001b[37m\u001b[0m \u001b[1m16s\u001b[0m 34ms/step - accuracy: 0.9588 - loss: 0.1215 - val_accuracy: 0.8511 - val_loss: 0.6050\n",
      "Epoch 6/25\n",
      "\u001b[1m471/471\u001b[0m \u001b[32m━━━━━━━━━━━━━━━━━━━━\u001b[0m\u001b[37m\u001b[0m \u001b[1m16s\u001b[0m 34ms/step - accuracy: 0.9584 - loss: 0.1145 - val_accuracy: 0.8559 - val_loss: 0.6014\n",
      "Epoch 7/25\n",
      "\u001b[1m471/471\u001b[0m \u001b[32m━━━━━━━━━━━━━━━━━━━━\u001b[0m\u001b[37m\u001b[0m \u001b[1m15s\u001b[0m 31ms/step - accuracy: 0.9600 - loss: 0.1148 - val_accuracy: 0.8444 - val_loss: 0.6456\n",
      "Epoch 8/25\n",
      "\u001b[1m471/471\u001b[0m \u001b[32m━━━━━━━━━━━━━━━━━━━━\u001b[0m\u001b[37m\u001b[0m \u001b[1m16s\u001b[0m 34ms/step - accuracy: 0.9635 - loss: 0.1080 - val_accuracy: 0.8477 - val_loss: 0.6452\n",
      "Epoch 9/25\n",
      "\u001b[1m471/471\u001b[0m \u001b[32m━━━━━━━━━━━━━━━━━━━━\u001b[0m\u001b[37m\u001b[0m \u001b[1m16s\u001b[0m 34ms/step - accuracy: 0.9645 - loss: 0.1004 - val_accuracy: 0.8511 - val_loss: 0.6637\n",
      "Epoch 10/25\n",
      "\u001b[1m471/471\u001b[0m \u001b[32m━━━━━━━━━━━━━━━━━━━━\u001b[0m\u001b[37m\u001b[0m \u001b[1m18s\u001b[0m 37ms/step - accuracy: 0.9618 - loss: 0.1085 - val_accuracy: 0.8555 - val_loss: 0.6527\n",
      "Epoch 11/25\n",
      "\u001b[1m471/471\u001b[0m \u001b[32m━━━━━━━━━━━━━━━━━━━━\u001b[0m\u001b[37m\u001b[0m \u001b[1m17s\u001b[0m 36ms/step - accuracy: 0.9675 - loss: 0.0969 - val_accuracy: 0.8484 - val_loss: 0.6804\n",
      "Epoch 12/25\n",
      "\u001b[1m471/471\u001b[0m \u001b[32m━━━━━━━━━━━━━━━━━━━━\u001b[0m\u001b[37m\u001b[0m \u001b[1m16s\u001b[0m 34ms/step - accuracy: 0.9647 - loss: 0.1006 - val_accuracy: 0.8539 - val_loss: 0.6714\n",
      "Epoch 13/25\n",
      "\u001b[1m471/471\u001b[0m \u001b[32m━━━━━━━━━━━━━━━━━━━━\u001b[0m\u001b[37m\u001b[0m \u001b[1m16s\u001b[0m 34ms/step - accuracy: 0.9672 - loss: 0.0938 - val_accuracy: 0.8464 - val_loss: 0.6982\n",
      "Epoch 14/25\n",
      "\u001b[1m471/471\u001b[0m \u001b[32m━━━━━━━━━━━━━━━━━━━━\u001b[0m\u001b[37m\u001b[0m \u001b[1m13s\u001b[0m 28ms/step - accuracy: 0.9681 - loss: 0.0939 - val_accuracy: 0.8488 - val_loss: 0.6679\n",
      "Epoch 15/25\n",
      "\u001b[1m471/471\u001b[0m \u001b[32m━━━━━━━━━━━━━━━━━━━━\u001b[0m\u001b[37m\u001b[0m \u001b[1m15s\u001b[0m 32ms/step - accuracy: 0.9692 - loss: 0.0882 - val_accuracy: 0.8547 - val_loss: 0.6514\n",
      "Epoch 16/25\n",
      "\u001b[1m471/471\u001b[0m \u001b[32m━━━━━━━━━━━━━━━━━━━━\u001b[0m\u001b[37m\u001b[0m \u001b[1m14s\u001b[0m 29ms/step - accuracy: 0.9687 - loss: 0.0911 - val_accuracy: 0.8489 - val_loss: 0.7110\n",
      "Epoch 17/25\n",
      "\u001b[1m471/471\u001b[0m \u001b[32m━━━━━━━━━━━━━━━━━━━━\u001b[0m\u001b[37m\u001b[0m \u001b[1m14s\u001b[0m 29ms/step - accuracy: 0.9704 - loss: 0.0845 - val_accuracy: 0.8494 - val_loss: 0.6934\n",
      "Epoch 18/25\n",
      "\u001b[1m471/471\u001b[0m \u001b[32m━━━━━━━━━━━━━━━━━━━━\u001b[0m\u001b[37m\u001b[0m \u001b[1m16s\u001b[0m 34ms/step - accuracy: 0.9719 - loss: 0.0802 - val_accuracy: 0.8534 - val_loss: 0.7125\n",
      "Epoch 19/25\n",
      "\u001b[1m471/471\u001b[0m \u001b[32m━━━━━━━━━━━━━━━━━━━━\u001b[0m\u001b[37m\u001b[0m \u001b[1m15s\u001b[0m 33ms/step - accuracy: 0.9729 - loss: 0.0804 - val_accuracy: 0.8547 - val_loss: 0.6892\n",
      "Epoch 20/25\n",
      "\u001b[1m471/471\u001b[0m \u001b[32m━━━━━━━━━━━━━━━━━━━━\u001b[0m\u001b[37m\u001b[0m \u001b[1m19s\u001b[0m 30ms/step - accuracy: 0.9736 - loss: 0.0771 - val_accuracy: 0.8522 - val_loss: 0.6700\n",
      "Epoch 21/25\n",
      "\u001b[1m471/471\u001b[0m \u001b[32m━━━━━━━━━━━━━━━━━━━━\u001b[0m\u001b[37m\u001b[0m \u001b[1m15s\u001b[0m 31ms/step - accuracy: 0.9721 - loss: 0.0818 - val_accuracy: 0.8514 - val_loss: 0.6997\n",
      "Epoch 22/25\n",
      "\u001b[1m471/471\u001b[0m \u001b[32m━━━━━━━━━━━━━━━━━━━━\u001b[0m\u001b[37m\u001b[0m \u001b[1m19s\u001b[0m 40ms/step - accuracy: 0.9768 - loss: 0.0684 - val_accuracy: 0.8488 - val_loss: 0.7351\n",
      "Epoch 23/25\n",
      "\u001b[1m471/471\u001b[0m \u001b[32m━━━━━━━━━━━━━━━━━━━━\u001b[0m\u001b[37m\u001b[0m \u001b[1m16s\u001b[0m 34ms/step - accuracy: 0.9755 - loss: 0.0702 - val_accuracy: 0.8508 - val_loss: 0.7353\n",
      "Epoch 24/25\n",
      "\u001b[1m471/471\u001b[0m \u001b[32m━━━━━━━━━━━━━━━━━━━━\u001b[0m\u001b[37m\u001b[0m \u001b[1m15s\u001b[0m 32ms/step - accuracy: 0.9759 - loss: 0.0703 - val_accuracy: 0.8525 - val_loss: 0.7208\n",
      "Epoch 25/25\n",
      "\u001b[1m471/471\u001b[0m \u001b[32m━━━━━━━━━━━━━━━━━━━━\u001b[0m\u001b[37m\u001b[0m \u001b[1m18s\u001b[0m 39ms/step - accuracy: 0.9746 - loss: 0.0718 - val_accuracy: 0.8554 - val_loss: 0.7280\n"
     ]
    }
   ],
   "source": [
    "history = model.fit(\n",
    "    X_train, y_train,\n",
    "    validation_data=(X_test, y_test),\n",
    "    epochs=25,\n",
    "    batch_size=64\n",
    ")\n"
   ]
  },
  {
   "cell_type": "code",
   "execution_count": 13,
   "id": "5a21afc8-49c4-4d4f-b9ab-31d1be9d0b3c",
   "metadata": {},
   "outputs": [],
   "source": [
    "model.save(\"amharic_cnn.keras\")\n",
    "\n",
    "# Save label encoder classes\n",
    "np.save(\"class_names.npy\", le.classes_)"
   ]
  },
  {
   "cell_type": "code",
   "execution_count": null,
   "id": "2f1d2b0f-d698-4c14-98b4-4b695b18581b",
   "metadata": {},
   "outputs": [],
   "source": []
  }
 ],
 "metadata": {
  "kernelspec": {
   "display_name": "Python 3 (ipykernel)",
   "language": "python",
   "name": "python3"
  },
  "language_info": {
   "codemirror_mode": {
    "name": "ipython",
    "version": 3
   },
   "file_extension": ".py",
   "mimetype": "text/x-python",
   "name": "python",
   "nbconvert_exporter": "python",
   "pygments_lexer": "ipython3",
   "version": "3.12.7"
  }
 },
 "nbformat": 4,
 "nbformat_minor": 5
}
